{
 "cells": [
  {
   "cell_type": "code",
   "execution_count": 1,
   "metadata": {},
   "outputs": [],
   "source": [
    "from pandas import read_json\n",
    "# import subprocess\n",
    "import datetime"
   ]
  },
  {
   "cell_type": "code",
   "execution_count": 2,
   "metadata": {},
   "outputs": [],
   "source": [
    "date = datetime.datetime.now().date()"
   ]
  },
  {
   "cell_type": "code",
   "execution_count": 3,
   "metadata": {},
   "outputs": [],
   "source": [
    "ids = [1,7,8,9,10,11,12,13,14,15]"
   ]
  },
  {
   "cell_type": "code",
   "execution_count": 4,
   "metadata": {},
   "outputs": [],
   "source": [
    "airborne_particles = [\"NO2\", \"SO2\", \"CO\", \"PM2.5\", \"PM10\",\"O3\"]"
   ]
  },
  {
   "cell_type": "code",
   "execution_count": 5,
   "metadata": {},
   "outputs": [],
   "source": [
    "types = [\"dailystat\", \"dailyaqi\"]"
   ]
  },
  {
   "cell_type": "code",
   "execution_count": 8,
   "metadata": {},
   "outputs": [],
   "source": [
    "for id in ids:\n",
    "#     subprocess.call(\"mkdir %s\"%id, shell=True)\n",
    "    for type in types:\n",
    "        list_temp = []\n",
    "#         subprocess.call(\"mkdir %s/%s\"%(id, type), shell=True)\n",
    "        for airborne_particle in airborne_particles:\n",
    "            df_temp = read_json(\"http://moitruongthudo.vn/public/%s/%s?site_id=%s\"%(type, airborne_particle, id))\n",
    "            if len(df_temp) > 0:\n",
    "                if type == \"dailyaqi\":\n",
    "                    df_temp = df_temp.drop(columns=\"color\")\n",
    "                df_temp = df_temp.rename(columns={'value':airborne_particle})\n",
    "                list_temp.append(df_temp)\n",
    "        data = list_temp[0]\n",
    "        for i in range(1,len(list_temp)):\n",
    "            data = data.join(list_temp[i].set_index('time'), on='time', how='outer')\n",
    "        data.to_csv(\"%s/%s/%s.csv\"%(id, type, date),index=False)"
   ]
  },
  {
   "cell_type": "code",
   "execution_count": null,
   "metadata": {},
   "outputs": [],
   "source": []
  }
 ],
 "metadata": {
  "kernelspec": {
   "display_name": "Python 3",
   "language": "python",
   "name": "python3"
  },
  "language_info": {
   "codemirror_mode": {
    "name": "ipython",
    "version": 3
   },
   "file_extension": ".py",
   "mimetype": "text/x-python",
   "name": "python",
   "nbconvert_exporter": "python",
   "pygments_lexer": "ipython3",
   "version": "3.6.5"
  }
 },
 "nbformat": 4,
 "nbformat_minor": 2
}
